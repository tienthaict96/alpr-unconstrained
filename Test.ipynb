{
 "cells": [
  {
   "cell_type": "code",
   "execution_count": 18,
   "metadata": {
    "scrolled": true
   },
   "outputs": [],
   "source": [
    "import cv2\n",
    "import imutils\n",
    "import numpy as np\n",
    "import pandas as pd\n",
    "import glob\n",
    "import os"
   ]
  },
  {
   "cell_type": "code",
   "execution_count": 27,
   "metadata": {},
   "outputs": [
    {
     "name": "stdout",
     "output_type": "stream",
     "text": [
      "[[973, 403], [1062, 399], [1076, 471], [987, 475]]\n",
      "[ 973 1062 1076  987  403  399  471  475]\n"
     ]
    }
   ],
   "source": [
    "df = pd.read_csv(\"../dataset/data_gen/all_data_gen.csv\")\n",
    "df = df.to_dict(orient='list')\n",
    "\n",
    "for k in df.keys():\n",
    "    df[k] = eval(df[k][0])\n",
    "\n",
    "    p = os.path.sep.join(['../dataset/data_gen/data', k])\n",
    "    img = cv2.imread(p)\n",
    "    \n",
    "    for coord in df[k]:\n",
    "        print(coord)\n",
    "        print(np.array(coord, dtype=\"int32\").flatten(\"F\"))\n",
    "        break\n",
    "        pts = np.array(coord, dtype=\"int32\")\n",
    "        pts = pts.reshape((-1, 1, 2))\n",
    "        cv2.polylines(img, [pts], True, (0, 0, 255), 3)\n",
    "        \n",
    "    cv2.imshow(k, imutils.resize(img, width=1500))\n",
    "    key = cv2.waitKey(0)\n",
    "    if key==ord('q'):\n",
    "        break\n",
    "    cv2.destroyAllWindows()\n",
    "        \n",
    "cv2.destroyAllWindows()"
   ]
  },
  {
   "cell_type": "code",
   "execution_count": 14,
   "metadata": {},
   "outputs": [],
   "source": [
    "from glob import glob\n",
    "\n",
    "def image_files_from_folder(folder, upper=True):\n",
    "    '''Trả lại danh sách path image có trong folder'''\n",
    "    extensions = ['jpg','jpeg','png']\n",
    "    img_files  = []\n",
    "    for ext in extensions:\n",
    "        img_files += glob('%s/*.%s' % (folder,ext))\n",
    "        if upper:\n",
    "            img_files += glob('%s/*.%s' % (folder,ext.upper()))\n",
    "    return img_files\n",
    "\n",
    "image_paths = image_files_from_folder(\"../dataset/alpr-unconstrained/train-detector\")"
   ]
  },
  {
   "cell_type": "code",
   "execution_count": null,
   "metadata": {},
   "outputs": [],
   "source": []
  }
 ],
 "metadata": {
  "kernelspec": {
   "display_name": "Python 3",
   "language": "python",
   "name": "python3"
  },
  "language_info": {
   "codemirror_mode": {
    "name": "ipython",
    "version": 3
   },
   "file_extension": ".py",
   "mimetype": "text/x-python",
   "name": "python",
   "nbconvert_exporter": "python",
   "pygments_lexer": "ipython3",
   "version": "3.6.8"
  }
 },
 "nbformat": 4,
 "nbformat_minor": 2
}
