{
 "cells": [
  {
   "cell_type": "code",
   "execution_count": 52,
   "metadata": {
    "scrolled": true
   },
   "outputs": [],
   "source": [
    "from glob import glob\n",
    "from os.path import splitext\n",
    "import numpy as np\n",
    "import keras\n",
    "from os.path import isfile, isdir, basename, splitext\n",
    "import cv2\n",
    "import random"
   ]
  },
  {
   "cell_type": "code",
   "execution_count": 16,
   "metadata": {
    "scrolled": true
   },
   "outputs": [],
   "source": [
    "file = \"../train-detector/00011.jpg\"\n",
    "labfile = splitext(file)[0] + '.txt'"
   ]
  },
  {
   "cell_type": "code",
   "execution_count": 38,
   "metadata": {},
   "outputs": [],
   "source": [
    "class Shape():\n",
    "\n",
    "    def __init__(self, pts=np.zeros((2,0)),max_sides=4,text=''):\n",
    "        self.pts = pts\n",
    "        self.max_sides = max_sides\n",
    "        self.text = text\n",
    "\n",
    "    def isValid(self):\n",
    "        return self.pts.shape[1] > 2\n",
    "\n",
    "    def write(self,fp):\n",
    "        fp.write('%d,' % self.pts.shape[1])\n",
    "        ptsarray = self.pts.flatten()\n",
    "        fp.write(''.join([('%f,' % value) for value in ptsarray]))\n",
    "        fp.write('%s,' % self.text)\n",
    "        fp.write('\\n')\n",
    "\n",
    "    def read(self,line):\n",
    "        data = line.strip().split(',')\n",
    "        print(data)\n",
    "        ss = int(data[0])\n",
    "        values = data[1:(ss*2 + 1)]\n",
    "        text = data[(ss*2 + 1)] if len(data) >= (ss*2 + 2) else ''\n",
    "        self.pts = np.array([float(value) for value in values]).reshape((2,ss))\n",
    "        self.text = text"
   ]
  },
  {
   "cell_type": "code",
   "execution_count": 41,
   "metadata": {},
   "outputs": [
    {
     "name": "stdout",
     "output_type": "stream",
     "text": [
      "['4', '0.237361', '0.333657', '0.328102', '0.229583', '0.643439', '0.643439', '0.721136', '0.720577', 'LP', '']\n"
     ]
    },
    {
     "data": {
      "text/plain": [
       "array([[0.237361, 0.333657, 0.328102, 0.229583],\n",
       "       [0.643439, 0.643439, 0.721136, 0.720577]])"
      ]
     },
     "execution_count": 41,
     "metadata": {},
     "output_type": "execute_result"
    }
   ],
   "source": [
    "with open(labfile) as fp:\n",
    "    for line in fp:\n",
    "        shape = Shape()\n",
    "        shape.read(line)\n",
    "        break\n",
    "\n"
   ]
  },
  {
   "cell_type": "code",
   "execution_count": 42,
   "metadata": {},
   "outputs": [
    {
     "name": "stdout",
     "output_type": "stream",
     "text": [
      "[[0.237361 0.333657 0.328102 0.229583]\n",
      " [0.643439 0.643439 0.721136 0.720577]]\n"
     ]
    }
   ],
   "source": [
    "I = cv2.imread(file)\n",
    "pts = shape.pts"
   ]
  },
  {
   "cell_type": "code",
   "execution_count": 44,
   "metadata": {},
   "outputs": [
    {
     "name": "stdout",
     "output_type": "stream",
     "text": [
      "maxsum, maxangle: 120, [80. 80. 45.]\n"
     ]
    }
   ],
   "source": [
    "maxsum, maxangle = 120,np.array([80.,80.,45.])\n",
    "print(\"maxsum, maxangle: {}, {}\".format(maxsum, maxangle))"
   ]
  },
  {
   "cell_type": "code",
   "execution_count": 46,
   "metadata": {},
   "outputs": [
    {
     "name": "stdout",
     "output_type": "stream",
     "text": [
      "angles [37.79000144 37.12211287 21.0641233 ]\n"
     ]
    }
   ],
   "source": [
    "angles = np.random.rand(3)*maxangle\n",
    "print(\"angles\", angles)"
   ]
  },
  {
   "cell_type": "code",
   "execution_count": 47,
   "metadata": {},
   "outputs": [
    {
     "name": "stdout",
     "output_type": "stream",
     "text": [
      "k xử lý\n"
     ]
    }
   ],
   "source": [
    "if angles.sum() > maxsum:\n",
    "    print(\"xử lý angle\")\n",
    "    angles = (angles/angles.sum())*(maxangle/maxangle.sum())\n",
    "else:\n",
    "    print(\"k xử lý\")"
   ]
  },
  {
   "cell_type": "code",
   "execution_count": 51,
   "metadata": {},
   "outputs": [
    {
     "data": {
      "text/plain": [
       "array([640., 424.])"
      ]
     },
     "execution_count": 51,
     "metadata": {},
     "output_type": "execute_result"
    }
   ],
   "source": [
    "def im2single(I):\n",
    "    assert(I.dtype == 'uint8')\n",
    "    return I.astype('float32')/255.\n",
    "def getWH(shape):\n",
    "    return np.array(shape[1::-1]).astype(float)\n",
    "\n",
    "I = im2single(I)\n",
    "# Lấy w, h dạng ma trận\n",
    "iwh = getWH(I.shape)\n",
    "iwh"
   ]
  },
  {
   "cell_type": "code",
   "execution_count": 54,
   "metadata": {},
   "outputs": [
    {
     "name": "stdout",
     "output_type": "stream",
     "text": [
      "whratio: 3.087779876997872, wsiz: 171.4382498708718, hsiz: 55.5215257240275\n"
     ]
    }
   ],
   "source": [
    "whratio = random.uniform(2.,4.)\n",
    "dim = 208\n",
    "wsiz = random.uniform(dim*.2,dim*1.)\n",
    "\n",
    "hsiz = wsiz/whratio\n",
    "print(\"whratio: {}, wsiz: {}, hsiz: {}\".format(whratio, wsiz, hsiz))"
   ]
  },
  {
   "cell_type": "code",
   "execution_count": 55,
   "metadata": {},
   "outputs": [
    {
     "name": "stdout",
     "output_type": "stream",
     "text": [
      "dx: 19.911748782426315, dy: 107.84916352498543\n"
     ]
    }
   ],
   "source": [
    "dx = random.uniform(0.,dim - wsiz)\n",
    "dy = random.uniform(0.,dim - hsiz)\n",
    "print(\"dx: {}, dy: {}\".format(dx, dy))"
   ]
  },
  {
   "cell_type": "code",
   "execution_count": 56,
   "metadata": {},
   "outputs": [
    {
     "name": "stdout",
     "output_type": "stream",
     "text": [
      "pph [[ 19.91174878 191.34999865 191.34999865  19.91174878]\n",
      " [107.84916352 107.84916352 163.37068925 163.37068925]\n",
      " [  1.           1.           1.           1.        ]]\n"
     ]
    }
   ],
   "source": [
    "def getRectPts(tlx,tly,brx,bry):\n",
    "    return np.matrix([[tlx,brx,brx,tlx],[tly,tly,bry,bry],[1.,1.,1.,1.]],dtype=float)\n",
    "\n",
    "pph = getRectPts(dx,dy,dx+wsiz,dy+hsiz)\n",
    "print(\"pph\", pph)"
   ]
  },
  {
   "cell_type": "code",
   "execution_count": 57,
   "metadata": {},
   "outputs": [
    {
     "name": "stdout",
     "output_type": "stream",
     "text": [
      "pts mới [[151.91104  213.54048  209.98528  146.93312 ]\n",
      " [272.818136 272.818136 305.761664 305.524648]]\n"
     ]
    }
   ],
   "source": [
    "pts = pts*iwh.reshape((2,1))\n",
    "print(\"pts mới\", pts)"
   ]
  },
  {
   "cell_type": "code",
   "execution_count": 58,
   "metadata": {},
   "outputs": [
    {
     "data": {
      "text/plain": [
       "array([146.93312 , 272.818136])"
      ]
     },
     "execution_count": 58,
     "metadata": {},
     "output_type": "execute_result"
    }
   ],
   "source": [
    "pts.min(1)"
   ]
  },
  {
   "cell_type": "code",
   "execution_count": null,
   "metadata": {},
   "outputs": [],
   "source": []
  }
 ],
 "metadata": {
  "kernelspec": {
   "display_name": "Python 3",
   "language": "python",
   "name": "python3"
  },
  "language_info": {
   "codemirror_mode": {
    "name": "ipython",
    "version": 3
   },
   "file_extension": ".py",
   "mimetype": "text/x-python",
   "name": "python",
   "nbconvert_exporter": "python",
   "pygments_lexer": "ipython3",
   "version": "3.6.8"
  }
 },
 "nbformat": 4,
 "nbformat_minor": 2
}
